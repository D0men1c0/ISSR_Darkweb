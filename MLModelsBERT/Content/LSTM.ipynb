{
 "cells": [
  {
   "cell_type": "markdown",
   "metadata": {},
   "source": [
    "# Library"
   ]
  },
  {
   "cell_type": "code",
   "execution_count": 70,
   "metadata": {},
   "outputs": [],
   "source": [
    "import pandas as pd\n",
    "import numpy as np\n",
    "import matplotlib.pyplot as plt\n",
    "from sklearn.model_selection import train_test_split, KFold\n",
    "from tensorflow.keras.utils import to_categorical\n",
    "from tensorflow.keras.models import Sequential\n",
    "from tensorflow.keras.models import Model\n",
    "from tensorflow.keras.layers import Input, LSTM, Dropout, Dense, concatenate\n",
    "from keras.callbacks import EarlyStopping, ModelCheckpoint\n",
    "from tensorflow.keras.optimizers import Adam, SGD\n",
    "from sklearn.metrics import classification_report\n",
    "from sklearn.metrics import roc_auc_score\n",
    "from sklearn.preprocessing import label_binarize\n",
    "from keras.layers import BatchNormalization, GRU, Bidirectional, Attention, Reshape, Flatten\n",
    "from keras.callbacks import EarlyStopping, ModelCheckpoint, ReduceLROnPlateau\n",
    "from keras.utils import plot_model\n",
    "from IPython.display import Image"
   ]
  },
  {
   "cell_type": "code",
   "execution_count": 2,
   "metadata": {},
   "outputs": [
    {
     "data": {
      "text/html": [
       "<div>\n",
       "<style scoped>\n",
       "    .dataframe tbody tr th:only-of-type {\n",
       "        vertical-align: middle;\n",
       "    }\n",
       "\n",
       "    .dataframe tbody tr th {\n",
       "        vertical-align: top;\n",
       "    }\n",
       "\n",
       "    .dataframe thead th {\n",
       "        text-align: right;\n",
       "    }\n",
       "</style>\n",
       "<table border=\"1\" class=\"dataframe\">\n",
       "  <thead>\n",
       "    <tr style=\"text-align: right;\">\n",
       "      <th></th>\n",
       "      <th>Document</th>\n",
       "      <th>Embedding</th>\n",
       "      <th>Topic</th>\n",
       "      <th>Probability</th>\n",
       "      <th>Created_on</th>\n",
       "      <th>Count</th>\n",
       "      <th>Name</th>\n",
       "      <th>CustomName</th>\n",
       "      <th>Representation</th>\n",
       "      <th>Representative_Docs</th>\n",
       "      <th>UMAP_embedding</th>\n",
       "    </tr>\n",
       "  </thead>\n",
       "  <tbody>\n",
       "    <tr>\n",
       "      <th>0</th>\n",
       "      <td>finally got dream lilxan account confirmed pgp...</td>\n",
       "      <td>[-0.05092696, -0.028831957, 0.03425763, -0.008...</td>\n",
       "      <td>9</td>\n",
       "      <td>[0.0019145853509105579, 0.0034859457117316834,...</td>\n",
       "      <td>2019-10-16</td>\n",
       "      <td>2462</td>\n",
       "      <td>9_pgp_begin pgp_begin_pgp signature</td>\n",
       "      <td>pgp - pgp signature - hash signature</td>\n",
       "      <td>[pgp, begin pgp, begin, pgp signature, signatu...</td>\n",
       "      <td>[vendor links last online fri dec utc last onl...</td>\n",
       "      <td>[0.18862869, 1.9764707, 6.3155804, -0.32967466...</td>\n",
       "    </tr>\n",
       "    <tr>\n",
       "      <th>1</th>\n",
       "      <td>im issues vendor account issues withdrawing cm...</td>\n",
       "      <td>[0.0006082218, 0.061474808, 0.017827673, 0.010...</td>\n",
       "      <td>1</td>\n",
       "      <td>[0.004161525996584431, 0.09864712150395494, 0....</td>\n",
       "      <td>2019-10-30</td>\n",
       "      <td>5365</td>\n",
       "      <td>1_deposit_address_ticket_btc</td>\n",
       "      <td>ticket - deposit - address</td>\n",
       "      <td>[deposit, address, ticket, btc, wallet, deposi...</td>\n",
       "      <td>[missing two deposit week ago big deposit erro...</td>\n",
       "      <td>[0.71821356, -0.18454741, 2.907359, -0.1046811...</td>\n",
       "    </tr>\n",
       "    <tr>\n",
       "      <th>2</th>\n",
       "      <td>making switch xmr besides xmr hodler favorite ...</td>\n",
       "      <td>[-0.063973725, -0.040487997, -0.025320696, -0....</td>\n",
       "      <td>15</td>\n",
       "      <td>[0.002285542372071366, 0.007466206317565759, 0...</td>\n",
       "      <td>2019-10-16</td>\n",
       "      <td>2995</td>\n",
       "      <td>15_monero_xmr_wallet_btc</td>\n",
       "      <td>monero - btc - wallet</td>\n",
       "      <td>[monero, xmr, wallet, btc, exchange, bitcoin, ...</td>\n",
       "      <td>[mixing bitcoin old school easy get scammed fe...</td>\n",
       "      <td>[0.15870488, 0.024624836, 3.1060727, -0.176952...</td>\n",
       "    </tr>\n",
       "    <tr>\n",
       "      <th>3</th>\n",
       "      <td>got free cooky cart order cannacreations one e...</td>\n",
       "      <td>[-0.021990731, 0.020082157, 0.017604021, 0.002...</td>\n",
       "      <td>0</td>\n",
       "      <td>[0.2930367581669767, 0.0036731910177007464, 0....</td>\n",
       "      <td>2019-10-16</td>\n",
       "      <td>14083</td>\n",
       "      <td>0_cart_weed_strain_thc</td>\n",
       "      <td>weed - thc - cart</td>\n",
       "      <td>[cart, weed, strain, thc, bud, price, product,...</td>\n",
       "      <td>[general review template general information d...</td>\n",
       "      <td>[-0.63843, 0.5993336, 2.1778893, -0.6935897, 1...</td>\n",
       "    </tr>\n",
       "    <tr>\n",
       "      <th>4</th>\n",
       "      <td>bg gone either oc look like he even cheaper oc...</td>\n",
       "      <td>[-0.13640997, 0.040470857, -0.0007943742, 0.06...</td>\n",
       "      <td>38</td>\n",
       "      <td>[0.005669327905041996, 0.0035937638895178897, ...</td>\n",
       "      <td>2019-10-16</td>\n",
       "      <td>1499</td>\n",
       "      <td>38_pack_week_day_ordered</td>\n",
       "      <td>order</td>\n",
       "      <td>[pack, week, day, ordered, land, got pack, got...</td>\n",
       "      <td>[confirm ordered pm last week messaged saying ...</td>\n",
       "      <td>[0.5634161, -0.7750787, 2.1607575, -0.37249324...</td>\n",
       "    </tr>\n",
       "  </tbody>\n",
       "</table>\n",
       "</div>"
      ],
      "text/plain": [
       "                                            Document  \\\n",
       "0  finally got dream lilxan account confirmed pgp...   \n",
       "1  im issues vendor account issues withdrawing cm...   \n",
       "2  making switch xmr besides xmr hodler favorite ...   \n",
       "3  got free cooky cart order cannacreations one e...   \n",
       "4  bg gone either oc look like he even cheaper oc...   \n",
       "\n",
       "                                           Embedding  Topic  \\\n",
       "0  [-0.05092696, -0.028831957, 0.03425763, -0.008...      9   \n",
       "1  [0.0006082218, 0.061474808, 0.017827673, 0.010...      1   \n",
       "2  [-0.063973725, -0.040487997, -0.025320696, -0....     15   \n",
       "3  [-0.021990731, 0.020082157, 0.017604021, 0.002...      0   \n",
       "4  [-0.13640997, 0.040470857, -0.0007943742, 0.06...     38   \n",
       "\n",
       "                                         Probability  Created_on  Count  \\\n",
       "0  [0.0019145853509105579, 0.0034859457117316834,...  2019-10-16   2462   \n",
       "1  [0.004161525996584431, 0.09864712150395494, 0....  2019-10-30   5365   \n",
       "2  [0.002285542372071366, 0.007466206317565759, 0...  2019-10-16   2995   \n",
       "3  [0.2930367581669767, 0.0036731910177007464, 0....  2019-10-16  14083   \n",
       "4  [0.005669327905041996, 0.0035937638895178897, ...  2019-10-16   1499   \n",
       "\n",
       "                                  Name                            CustomName  \\\n",
       "0  9_pgp_begin pgp_begin_pgp signature  pgp - pgp signature - hash signature   \n",
       "1         1_deposit_address_ticket_btc            ticket - deposit - address   \n",
       "2             15_monero_xmr_wallet_btc                 monero - btc - wallet   \n",
       "3               0_cart_weed_strain_thc                     weed - thc - cart   \n",
       "4             38_pack_week_day_ordered                                 order   \n",
       "\n",
       "                                      Representation  \\\n",
       "0  [pgp, begin pgp, begin, pgp signature, signatu...   \n",
       "1  [deposit, address, ticket, btc, wallet, deposi...   \n",
       "2  [monero, xmr, wallet, btc, exchange, bitcoin, ...   \n",
       "3  [cart, weed, strain, thc, bud, price, product,...   \n",
       "4  [pack, week, day, ordered, land, got pack, got...   \n",
       "\n",
       "                                 Representative_Docs  \\\n",
       "0  [vendor links last online fri dec utc last onl...   \n",
       "1  [missing two deposit week ago big deposit erro...   \n",
       "2  [mixing bitcoin old school easy get scammed fe...   \n",
       "3  [general review template general information d...   \n",
       "4  [confirm ordered pm last week messaged saying ...   \n",
       "\n",
       "                                      UMAP_embedding  \n",
       "0  [0.18862869, 1.9764707, 6.3155804, -0.32967466...  \n",
       "1  [0.71821356, -0.18454741, 2.907359, -0.1046811...  \n",
       "2  [0.15870488, 0.024624836, 3.1060727, -0.176952...  \n",
       "3  [-0.63843, 0.5993336, 2.1778893, -0.6935897, 1...  \n",
       "4  [0.5634161, -0.7750787, 2.1607575, -0.37249324...  "
      ]
     },
     "execution_count": 2,
     "metadata": {},
     "output_type": "execute_result"
    }
   ],
   "source": [
    "df_content = pd.read_parquet('../../Analyze_files/CombiningAnalysisCompleteDataset/ContentAnalysis/DatasetsContentBERTopic/BERTopic_all-MiniLM-L6-v2_190_20n_8dim.parquet')\n",
    "df_content = df_content.dropna()\n",
    "df_content.head()"
   ]
  },
  {
   "cell_type": "code",
   "execution_count": 3,
   "metadata": {},
   "outputs": [
    {
     "name": "stdout",
     "output_type": "stream",
     "text": [
      "<class 'pandas.core.frame.DataFrame'>\n",
      "RangeIndex: 169288 entries, 0 to 169287\n",
      "Data columns (total 11 columns):\n",
      " #   Column               Non-Null Count   Dtype \n",
      "---  ------               --------------   ----- \n",
      " 0   Document             169288 non-null  object\n",
      " 1   Embedding            169288 non-null  object\n",
      " 2   Topic                169288 non-null  int64 \n",
      " 3   Probability          169288 non-null  object\n",
      " 4   Created_on           169288 non-null  object\n",
      " 5   Count                169288 non-null  int64 \n",
      " 6   Name                 169288 non-null  object\n",
      " 7   CustomName           169288 non-null  object\n",
      " 8   Representation       169288 non-null  object\n",
      " 9   Representative_Docs  169288 non-null  object\n",
      " 10  UMAP_embedding       169288 non-null  object\n",
      "dtypes: int64(2), object(9)\n",
      "memory usage: 14.2+ MB\n"
     ]
    }
   ],
   "source": [
    "df_content.info()"
   ]
  },
  {
   "cell_type": "markdown",
   "metadata": {},
   "source": [
    "# Transform Data"
   ]
  },
  {
   "cell_type": "markdown",
   "metadata": {},
   "source": [
    "## Prepare Embeddings"
   ]
  },
  {
   "cell_type": "code",
   "execution_count": 4,
   "metadata": {},
   "outputs": [
    {
     "data": {
      "text/plain": [
       "array([[-0.05092696, -0.02883196,  0.03425763, ...,  0.00909158,\n",
       "        -0.03866448, -0.04109244],\n",
       "       [ 0.00060822,  0.06147481,  0.01782767, ..., -0.04401757,\n",
       "        -0.02660749, -0.08558437],\n",
       "       [-0.06397372, -0.040488  , -0.0253207 , ..., -0.05395703,\n",
       "        -0.03535156,  0.05759883],\n",
       "       ...,\n",
       "       [-0.07217486,  0.04563387,  0.03032297, ...,  0.09671947,\n",
       "        -0.06746073,  0.03873233],\n",
       "       [-0.13904728, -0.02408719, -0.02283162, ...,  0.04082799,\n",
       "        -0.00130486,  0.04338759],\n",
       "       [ 0.01306497,  0.04508202, -0.00048264, ..., -0.06037715,\n",
       "         0.01438037, -0.04874933]], dtype=float32)"
      ]
     },
     "execution_count": 4,
     "metadata": {},
     "output_type": "execute_result"
    }
   ],
   "source": [
    "X = df_content[['Embedding', 'Created_on']]\n",
    "embedding_dim = len(X['Embedding'][0])\n",
    "embedding_cols = pd.DataFrame(X['Embedding'].tolist(), index=X.index, columns=[f'embedding_{i}' for i in range(embedding_dim)])\n",
    "X = pd.concat([X, embedding_cols], axis=1)\n",
    "X.drop(columns=['Embedding'], inplace=True)\n",
    "embedding = X.drop(columns=['Created_on']).values\n",
    "embedding"
   ]
  },
  {
   "cell_type": "markdown",
   "metadata": {},
   "source": [
    "## Timestamp"
   ]
  },
  {
   "cell_type": "code",
   "execution_count": 5,
   "metadata": {},
   "outputs": [
    {
     "data": {
      "text/plain": [
       "array([608, 622, 608, ..., 493, 537, 484], dtype=int64)"
      ]
     },
     "execution_count": 5,
     "metadata": {},
     "output_type": "execute_result"
    }
   ],
   "source": [
    "X['Created_on'] = pd.to_datetime(X['Created_on'])\n",
    "# Standardize Time Stamp\n",
    "first_date = X['Created_on'].min()\n",
    "X['days_since_start'] = (X['Created_on'] - first_date).dt.days\n",
    "timestamp = X['days_since_start'].values\n",
    "timestamp"
   ]
  },
  {
   "cell_type": "markdown",
   "metadata": {},
   "source": [
    "## Classes"
   ]
  },
  {
   "cell_type": "code",
   "execution_count": 6,
   "metadata": {},
   "outputs": [
    {
     "data": {
      "text/plain": [
       "array([ 9,  1, 15, ..., 89, 19, 17])"
      ]
     },
     "execution_count": 6,
     "metadata": {},
     "output_type": "execute_result"
    }
   ],
   "source": [
    "y = df_content['Topic'].astype(int).values\n",
    "y"
   ]
  },
  {
   "cell_type": "markdown",
   "metadata": {},
   "source": [
    "# Training Model"
   ]
  },
  {
   "cell_type": "markdown",
   "metadata": {},
   "source": [
    "## Splitting training and test"
   ]
  },
  {
   "cell_type": "code",
   "execution_count": 7,
   "metadata": {},
   "outputs": [
    {
     "data": {
      "text/plain": [
       "((135430, 384), (33858, 384), (135430, 1), (33858, 1), (135430,), (33858,))"
      ]
     },
     "execution_count": 7,
     "metadata": {},
     "output_type": "execute_result"
    }
   ],
   "source": [
    "embedding_data_train = embedding\n",
    "timestamp_array_train = timestamp\n",
    "labels_train = y\n",
    "X_train_emb, X_test_emb, X_train_timestamp, X_test_timestamp, y_train, y_test = train_test_split(\n",
    "    embedding_data_train, timestamp_array_train, labels_train, test_size=0.2, random_state=42)\n",
    "X_train_ts = X_train_timestamp[:, np.newaxis]\n",
    "X_test_ts = X_test_timestamp[:, np.newaxis]\n",
    "X_train_emb.shape, X_test_emb.shape, X_train_ts.shape, X_test_ts.shape, y_train.shape, y_test.shape"
   ]
  },
  {
   "cell_type": "markdown",
   "metadata": {},
   "source": [
    "## Build Model"
   ]
  },
  {
   "cell_type": "code",
   "execution_count": 341,
   "metadata": {},
   "outputs": [
    {
     "data": {
      "text/html": [
       "<pre style=\"white-space:pre;overflow-x:auto;line-height:normal;font-family:Menlo,'DejaVu Sans Mono',consolas,'Courier New',monospace\"><span style=\"font-weight: bold\">Model: \"functional_75\"</span>\n",
       "</pre>\n"
      ],
      "text/plain": [
       "\u001b[1mModel: \"functional_75\"\u001b[0m\n"
      ]
     },
     "metadata": {},
     "output_type": "display_data"
    },
    {
     "data": {
      "text/html": [
       "<pre style=\"white-space:pre;overflow-x:auto;line-height:normal;font-family:Menlo,'DejaVu Sans Mono',consolas,'Courier New',monospace\">┏━━━━━━━━━━━━━━━━━━━━━┳━━━━━━━━━━━━━━━━━━━┳━━━━━━━━━━━━┳━━━━━━━━━━━━━━━━━━━┓\n",
       "┃<span style=\"font-weight: bold\"> Layer (type)        </span>┃<span style=\"font-weight: bold\"> Output Shape      </span>┃<span style=\"font-weight: bold\">    Param # </span>┃<span style=\"font-weight: bold\"> Connected to      </span>┃\n",
       "┡━━━━━━━━━━━━━━━━━━━━━╇━━━━━━━━━━━━━━━━━━━╇━━━━━━━━━━━━╇━━━━━━━━━━━━━━━━━━━┩\n",
       "│ input_layer_76      │ (<span style=\"color: #00d7ff; text-decoration-color: #00d7ff\">None</span>, <span style=\"color: #00af00; text-decoration-color: #00af00\">1</span>)         │          <span style=\"color: #00af00; text-decoration-color: #00af00\">0</span> │ -                 │\n",
       "│ (<span style=\"color: #0087ff; text-decoration-color: #0087ff\">InputLayer</span>)        │                   │            │                   │\n",
       "├─────────────────────┼───────────────────┼────────────┼───────────────────┤\n",
       "│ input_layer_75      │ (<span style=\"color: #00d7ff; text-decoration-color: #00d7ff\">None</span>, <span style=\"color: #00af00; text-decoration-color: #00af00\">384</span>)       │          <span style=\"color: #00af00; text-decoration-color: #00af00\">0</span> │ -                 │\n",
       "│ (<span style=\"color: #0087ff; text-decoration-color: #0087ff\">InputLayer</span>)        │                   │            │                   │\n",
       "├─────────────────────┼───────────────────┼────────────┼───────────────────┤\n",
       "│ get_item_14         │ (<span style=\"color: #00d7ff; text-decoration-color: #00d7ff\">None</span>, <span style=\"color: #00af00; text-decoration-color: #00af00\">1</span>, <span style=\"color: #00af00; text-decoration-color: #00af00\">1</span>)      │          <span style=\"color: #00af00; text-decoration-color: #00af00\">0</span> │ input_layer_76[<span style=\"color: #00af00; text-decoration-color: #00af00\">0</span>… │\n",
       "│ (<span style=\"color: #0087ff; text-decoration-color: #0087ff\">GetItem</span>)           │                   │            │                   │\n",
       "├─────────────────────┼───────────────────┼────────────┼───────────────────┤\n",
       "│ dense_84 (<span style=\"color: #0087ff; text-decoration-color: #0087ff\">Dense</span>)    │ (<span style=\"color: #00d7ff; text-decoration-color: #00d7ff\">None</span>, <span style=\"color: #00af00; text-decoration-color: #00af00\">250</span>)       │     <span style=\"color: #00af00; text-decoration-color: #00af00\">96,250</span> │ input_layer_75[<span style=\"color: #00af00; text-decoration-color: #00af00\">0</span>… │\n",
       "├─────────────────────┼───────────────────┼────────────┼───────────────────┤\n",
       "│ lstm_77 (<span style=\"color: #0087ff; text-decoration-color: #0087ff\">LSTM</span>)      │ (<span style=\"color: #00d7ff; text-decoration-color: #00d7ff\">None</span>, <span style=\"color: #00af00; text-decoration-color: #00af00\">50</span>)        │     <span style=\"color: #00af00; text-decoration-color: #00af00\">10,400</span> │ get_item_14[<span style=\"color: #00af00; text-decoration-color: #00af00\">0</span>][<span style=\"color: #00af00; text-decoration-color: #00af00\">0</span>] │\n",
       "├─────────────────────┼───────────────────┼────────────┼───────────────────┤\n",
       "│ dropout_79          │ (<span style=\"color: #00d7ff; text-decoration-color: #00d7ff\">None</span>, <span style=\"color: #00af00; text-decoration-color: #00af00\">250</span>)       │          <span style=\"color: #00af00; text-decoration-color: #00af00\">0</span> │ dense_84[<span style=\"color: #00af00; text-decoration-color: #00af00\">0</span>][<span style=\"color: #00af00; text-decoration-color: #00af00\">0</span>]    │\n",
       "│ (<span style=\"color: #0087ff; text-decoration-color: #0087ff\">Dropout</span>)           │                   │            │                   │\n",
       "├─────────────────────┼───────────────────┼────────────┼───────────────────┤\n",
       "│ dropout_80          │ (<span style=\"color: #00d7ff; text-decoration-color: #00d7ff\">None</span>, <span style=\"color: #00af00; text-decoration-color: #00af00\">50</span>)        │          <span style=\"color: #00af00; text-decoration-color: #00af00\">0</span> │ lstm_77[<span style=\"color: #00af00; text-decoration-color: #00af00\">0</span>][<span style=\"color: #00af00; text-decoration-color: #00af00\">0</span>]     │\n",
       "│ (<span style=\"color: #0087ff; text-decoration-color: #0087ff\">Dropout</span>)           │                   │            │                   │\n",
       "├─────────────────────┼───────────────────┼────────────┼───────────────────┤\n",
       "│ concatenate_13      │ (<span style=\"color: #00d7ff; text-decoration-color: #00d7ff\">None</span>, <span style=\"color: #00af00; text-decoration-color: #00af00\">300</span>)       │          <span style=\"color: #00af00; text-decoration-color: #00af00\">0</span> │ dropout_79[<span style=\"color: #00af00; text-decoration-color: #00af00\">0</span>][<span style=\"color: #00af00; text-decoration-color: #00af00\">0</span>], │\n",
       "│ (<span style=\"color: #0087ff; text-decoration-color: #0087ff\">Concatenate</span>)       │                   │            │ dropout_80[<span style=\"color: #00af00; text-decoration-color: #00af00\">0</span>][<span style=\"color: #00af00; text-decoration-color: #00af00\">0</span>]  │\n",
       "├─────────────────────┼───────────────────┼────────────┼───────────────────┤\n",
       "│ dense_85 (<span style=\"color: #0087ff; text-decoration-color: #0087ff\">Dense</span>)    │ (<span style=\"color: #00d7ff; text-decoration-color: #00d7ff\">None</span>, <span style=\"color: #00af00; text-decoration-color: #00af00\">200</span>)       │     <span style=\"color: #00af00; text-decoration-color: #00af00\">60,200</span> │ concatenate_13[<span style=\"color: #00af00; text-decoration-color: #00af00\">0</span>… │\n",
       "├─────────────────────┼───────────────────┼────────────┼───────────────────┤\n",
       "│ dense_86 (<span style=\"color: #0087ff; text-decoration-color: #0087ff\">Dense</span>)    │ (<span style=\"color: #00d7ff; text-decoration-color: #00d7ff\">None</span>, <span style=\"color: #00af00; text-decoration-color: #00af00\">121</span>)       │     <span style=\"color: #00af00; text-decoration-color: #00af00\">24,321</span> │ dense_85[<span style=\"color: #00af00; text-decoration-color: #00af00\">0</span>][<span style=\"color: #00af00; text-decoration-color: #00af00\">0</span>]    │\n",
       "└─────────────────────┴───────────────────┴────────────┴───────────────────┘\n",
       "</pre>\n"
      ],
      "text/plain": [
       "┏━━━━━━━━━━━━━━━━━━━━━┳━━━━━━━━━━━━━━━━━━━┳━━━━━━━━━━━━┳━━━━━━━━━━━━━━━━━━━┓\n",
       "┃\u001b[1m \u001b[0m\u001b[1mLayer (type)       \u001b[0m\u001b[1m \u001b[0m┃\u001b[1m \u001b[0m\u001b[1mOutput Shape     \u001b[0m\u001b[1m \u001b[0m┃\u001b[1m \u001b[0m\u001b[1m   Param #\u001b[0m\u001b[1m \u001b[0m┃\u001b[1m \u001b[0m\u001b[1mConnected to     \u001b[0m\u001b[1m \u001b[0m┃\n",
       "┡━━━━━━━━━━━━━━━━━━━━━╇━━━━━━━━━━━━━━━━━━━╇━━━━━━━━━━━━╇━━━━━━━━━━━━━━━━━━━┩\n",
       "│ input_layer_76      │ (\u001b[38;5;45mNone\u001b[0m, \u001b[38;5;34m1\u001b[0m)         │          \u001b[38;5;34m0\u001b[0m │ -                 │\n",
       "│ (\u001b[38;5;33mInputLayer\u001b[0m)        │                   │            │                   │\n",
       "├─────────────────────┼───────────────────┼────────────┼───────────────────┤\n",
       "│ input_layer_75      │ (\u001b[38;5;45mNone\u001b[0m, \u001b[38;5;34m384\u001b[0m)       │          \u001b[38;5;34m0\u001b[0m │ -                 │\n",
       "│ (\u001b[38;5;33mInputLayer\u001b[0m)        │                   │            │                   │\n",
       "├─────────────────────┼───────────────────┼────────────┼───────────────────┤\n",
       "│ get_item_14         │ (\u001b[38;5;45mNone\u001b[0m, \u001b[38;5;34m1\u001b[0m, \u001b[38;5;34m1\u001b[0m)      │          \u001b[38;5;34m0\u001b[0m │ input_layer_76[\u001b[38;5;34m0\u001b[0m… │\n",
       "│ (\u001b[38;5;33mGetItem\u001b[0m)           │                   │            │                   │\n",
       "├─────────────────────┼───────────────────┼────────────┼───────────────────┤\n",
       "│ dense_84 (\u001b[38;5;33mDense\u001b[0m)    │ (\u001b[38;5;45mNone\u001b[0m, \u001b[38;5;34m250\u001b[0m)       │     \u001b[38;5;34m96,250\u001b[0m │ input_layer_75[\u001b[38;5;34m0\u001b[0m… │\n",
       "├─────────────────────┼───────────────────┼────────────┼───────────────────┤\n",
       "│ lstm_77 (\u001b[38;5;33mLSTM\u001b[0m)      │ (\u001b[38;5;45mNone\u001b[0m, \u001b[38;5;34m50\u001b[0m)        │     \u001b[38;5;34m10,400\u001b[0m │ get_item_14[\u001b[38;5;34m0\u001b[0m][\u001b[38;5;34m0\u001b[0m] │\n",
       "├─────────────────────┼───────────────────┼────────────┼───────────────────┤\n",
       "│ dropout_79          │ (\u001b[38;5;45mNone\u001b[0m, \u001b[38;5;34m250\u001b[0m)       │          \u001b[38;5;34m0\u001b[0m │ dense_84[\u001b[38;5;34m0\u001b[0m][\u001b[38;5;34m0\u001b[0m]    │\n",
       "│ (\u001b[38;5;33mDropout\u001b[0m)           │                   │            │                   │\n",
       "├─────────────────────┼───────────────────┼────────────┼───────────────────┤\n",
       "│ dropout_80          │ (\u001b[38;5;45mNone\u001b[0m, \u001b[38;5;34m50\u001b[0m)        │          \u001b[38;5;34m0\u001b[0m │ lstm_77[\u001b[38;5;34m0\u001b[0m][\u001b[38;5;34m0\u001b[0m]     │\n",
       "│ (\u001b[38;5;33mDropout\u001b[0m)           │                   │            │                   │\n",
       "├─────────────────────┼───────────────────┼────────────┼───────────────────┤\n",
       "│ concatenate_13      │ (\u001b[38;5;45mNone\u001b[0m, \u001b[38;5;34m300\u001b[0m)       │          \u001b[38;5;34m0\u001b[0m │ dropout_79[\u001b[38;5;34m0\u001b[0m][\u001b[38;5;34m0\u001b[0m], │\n",
       "│ (\u001b[38;5;33mConcatenate\u001b[0m)       │                   │            │ dropout_80[\u001b[38;5;34m0\u001b[0m][\u001b[38;5;34m0\u001b[0m]  │\n",
       "├─────────────────────┼───────────────────┼────────────┼───────────────────┤\n",
       "│ dense_85 (\u001b[38;5;33mDense\u001b[0m)    │ (\u001b[38;5;45mNone\u001b[0m, \u001b[38;5;34m200\u001b[0m)       │     \u001b[38;5;34m60,200\u001b[0m │ concatenate_13[\u001b[38;5;34m0\u001b[0m… │\n",
       "├─────────────────────┼───────────────────┼────────────┼───────────────────┤\n",
       "│ dense_86 (\u001b[38;5;33mDense\u001b[0m)    │ (\u001b[38;5;45mNone\u001b[0m, \u001b[38;5;34m121\u001b[0m)       │     \u001b[38;5;34m24,321\u001b[0m │ dense_85[\u001b[38;5;34m0\u001b[0m][\u001b[38;5;34m0\u001b[0m]    │\n",
       "└─────────────────────┴───────────────────┴────────────┴───────────────────┘\n"
      ]
     },
     "metadata": {},
     "output_type": "display_data"
    },
    {
     "data": {
      "text/html": [
       "<pre style=\"white-space:pre;overflow-x:auto;line-height:normal;font-family:Menlo,'DejaVu Sans Mono',consolas,'Courier New',monospace\"><span style=\"font-weight: bold\"> Total params: </span><span style=\"color: #00af00; text-decoration-color: #00af00\">191,171</span> (746.76 KB)\n",
       "</pre>\n"
      ],
      "text/plain": [
       "\u001b[1m Total params: \u001b[0m\u001b[38;5;34m191,171\u001b[0m (746.76 KB)\n"
      ]
     },
     "metadata": {},
     "output_type": "display_data"
    },
    {
     "data": {
      "text/html": [
       "<pre style=\"white-space:pre;overflow-x:auto;line-height:normal;font-family:Menlo,'DejaVu Sans Mono',consolas,'Courier New',monospace\"><span style=\"font-weight: bold\"> Trainable params: </span><span style=\"color: #00af00; text-decoration-color: #00af00\">191,171</span> (746.76 KB)\n",
       "</pre>\n"
      ],
      "text/plain": [
       "\u001b[1m Trainable params: \u001b[0m\u001b[38;5;34m191,171\u001b[0m (746.76 KB)\n"
      ]
     },
     "metadata": {},
     "output_type": "display_data"
    },
    {
     "data": {
      "text/html": [
       "<pre style=\"white-space:pre;overflow-x:auto;line-height:normal;font-family:Menlo,'DejaVu Sans Mono',consolas,'Courier New',monospace\"><span style=\"font-weight: bold\"> Non-trainable params: </span><span style=\"color: #00af00; text-decoration-color: #00af00\">0</span> (0.00 B)\n",
       "</pre>\n"
      ],
      "text/plain": [
       "\u001b[1m Non-trainable params: \u001b[0m\u001b[38;5;34m0\u001b[0m (0.00 B)\n"
      ]
     },
     "metadata": {},
     "output_type": "display_data"
    }
   ],
   "source": [
    "# Define the embedding input layer\n",
    "embedding_input = Input(shape=(384,))\n",
    "\n",
    "# Define the timestamp input layer\n",
    "timestamp_input = Input(shape=(1,))\n",
    "\n",
    "# Dense layer applied to the embedding input\n",
    "x = Dense(250, activation='relu')(embedding_input)\n",
    "x = Dropout(0.2)(x)\n",
    "# LSTM layer applied to the timestamp input\n",
    "# Add an extra dimension to fit the LSTM input shape requirement\n",
    "y = LSTM(50)(timestamp_input[:, np.newaxis])\n",
    "# Dropout layer to prevent overfitting\n",
    "y = Dropout(0.2)(y)\n",
    "\n",
    "# Concatenate the outputs of the dense and LSTM layers\n",
    "combined = concatenate([x, y])\n",
    "\n",
    "# Additional dense layer with ReLU activation\n",
    "z = Dense(200, activation='relu')(combined)\n",
    "\n",
    "# Output layer with softmax activation for multi-class classification\n",
    "output = Dense(121, activation='softmax')(z)\n",
    "\n",
    "# Define the model with input and output layers\n",
    "model = Model(inputs=[embedding_input, timestamp_input], outputs=output)\n",
    "\n",
    "# Compile the model with Adam optimizer, sparse categorical crossentropy loss,\n",
    "# and metrics including accuracy and sparse categorical accuracy\n",
    "optimizer = Adam(learning_rate=0.001)\n",
    "model.compile(optimizer=optimizer, loss='sparse_categorical_crossentropy', \n",
    "              metrics=['accuracy', 'sparse_categorical_accuracy'])\n",
    "\n",
    "# Print a summary of the model architecture\n",
    "model.summary()"
   ]
  },
  {
   "cell_type": "markdown",
   "metadata": {},
   "source": [
    "### Checkpoint and EarlyStopping"
   ]
  },
  {
   "cell_type": "code",
   "execution_count": 342,
   "metadata": {},
   "outputs": [],
   "source": [
    "# Define the paths for saving the model weights\n",
    "checkpoint_path = 'model_checkpoint.weights.h5'\n",
    "\n",
    "# Early stopping callback\n",
    "early_stopping_callback = EarlyStopping(monitor='val_accuracy', patience=10, restore_best_weights=True)\n",
    "\n",
    "# Model checkpoint callback\n",
    "model_checkpoint_callback = ModelCheckpoint(\n",
    "    filepath=checkpoint_path,\n",
    "    save_weights_only=True,\n",
    "    monitor='val_accuracy',\n",
    "    mode='max',\n",
    "    save_best_only=True\n",
    ")"
   ]
  },
  {
   "cell_type": "code",
   "execution_count": 343,
   "metadata": {},
   "outputs": [
    {
     "name": "stdout",
     "output_type": "stream",
     "text": [
      "Epoch 1/100\n",
      "\u001b[1m4233/4233\u001b[0m \u001b[32m━━━━━━━━━━━━━━━━━━━━\u001b[0m\u001b[37m\u001b[0m \u001b[1m24s\u001b[0m 5ms/step - accuracy: 0.5697 - loss: 1.7643 - sparse_categorical_accuracy: 0.5697 - val_accuracy: 0.8053 - val_loss: 0.6464 - val_sparse_categorical_accuracy: 0.8053\n",
      "Epoch 2/100\n",
      "\u001b[1m4233/4233\u001b[0m \u001b[32m━━━━━━━━━━━━━━━━━━━━\u001b[0m\u001b[37m\u001b[0m \u001b[1m25s\u001b[0m 6ms/step - accuracy: 0.8039 - loss: 0.6443 - sparse_categorical_accuracy: 0.8039 - val_accuracy: 0.8259 - val_loss: 0.5671 - val_sparse_categorical_accuracy: 0.8259\n",
      "Epoch 3/100\n",
      "\u001b[1m4233/4233\u001b[0m \u001b[32m━━━━━━━━━━━━━━━━━━━━\u001b[0m\u001b[37m\u001b[0m \u001b[1m27s\u001b[0m 6ms/step - accuracy: 0.8274 - loss: 0.5560 - sparse_categorical_accuracy: 0.8274 - val_accuracy: 0.8361 - val_loss: 0.5401 - val_sparse_categorical_accuracy: 0.8361\n",
      "Epoch 4/100\n",
      "\u001b[1m4233/4233\u001b[0m \u001b[32m━━━━━━━━━━━━━━━━━━━━\u001b[0m\u001b[37m\u001b[0m \u001b[1m25s\u001b[0m 6ms/step - accuracy: 0.8416 - loss: 0.5006 - sparse_categorical_accuracy: 0.8416 - val_accuracy: 0.8383 - val_loss: 0.5226 - val_sparse_categorical_accuracy: 0.8383\n",
      "Epoch 5/100\n",
      "\u001b[1m4233/4233\u001b[0m \u001b[32m━━━━━━━━━━━━━━━━━━━━\u001b[0m\u001b[37m\u001b[0m \u001b[1m25s\u001b[0m 6ms/step - accuracy: 0.8555 - loss: 0.4549 - sparse_categorical_accuracy: 0.8555 - val_accuracy: 0.8436 - val_loss: 0.5139 - val_sparse_categorical_accuracy: 0.8436\n",
      "Epoch 6/100\n",
      "\u001b[1m4233/4233\u001b[0m \u001b[32m━━━━━━━━━━━━━━━━━━━━\u001b[0m\u001b[37m\u001b[0m \u001b[1m26s\u001b[0m 6ms/step - accuracy: 0.8654 - loss: 0.4184 - sparse_categorical_accuracy: 0.8654 - val_accuracy: 0.8444 - val_loss: 0.5093 - val_sparse_categorical_accuracy: 0.8444\n",
      "Epoch 7/100\n",
      "\u001b[1m4233/4233\u001b[0m \u001b[32m━━━━━━━━━━━━━━━━━━━━\u001b[0m\u001b[37m\u001b[0m \u001b[1m37s\u001b[0m 5ms/step - accuracy: 0.8715 - loss: 0.3927 - sparse_categorical_accuracy: 0.8715 - val_accuracy: 0.8466 - val_loss: 0.5108 - val_sparse_categorical_accuracy: 0.8466\n",
      "Epoch 8/100\n",
      "\u001b[1m4233/4233\u001b[0m \u001b[32m━━━━━━━━━━━━━━━━━━━━\u001b[0m\u001b[37m\u001b[0m \u001b[1m40s\u001b[0m 5ms/step - accuracy: 0.8800 - loss: 0.3687 - sparse_categorical_accuracy: 0.8800 - val_accuracy: 0.8460 - val_loss: 0.5038 - val_sparse_categorical_accuracy: 0.8460\n",
      "Epoch 9/100\n",
      "\u001b[1m4233/4233\u001b[0m \u001b[32m━━━━━━━━━━━━━━━━━━━━\u001b[0m\u001b[37m\u001b[0m \u001b[1m26s\u001b[0m 6ms/step - accuracy: 0.8868 - loss: 0.3427 - sparse_categorical_accuracy: 0.8868 - val_accuracy: 0.8493 - val_loss: 0.5089 - val_sparse_categorical_accuracy: 0.8493\n",
      "Epoch 10/100\n",
      "\u001b[1m4233/4233\u001b[0m \u001b[32m━━━━━━━━━━━━━━━━━━━━\u001b[0m\u001b[37m\u001b[0m \u001b[1m37s\u001b[0m 5ms/step - accuracy: 0.8919 - loss: 0.3228 - sparse_categorical_accuracy: 0.8919 - val_accuracy: 0.8454 - val_loss: 0.5212 - val_sparse_categorical_accuracy: 0.8454\n",
      "Epoch 11/100\n",
      "\u001b[1m4233/4233\u001b[0m \u001b[32m━━━━━━━━━━━━━━━━━━━━\u001b[0m\u001b[37m\u001b[0m \u001b[1m26s\u001b[0m 6ms/step - accuracy: 0.8966 - loss: 0.3083 - sparse_categorical_accuracy: 0.8966 - val_accuracy: 0.8487 - val_loss: 0.5214 - val_sparse_categorical_accuracy: 0.8487\n",
      "Epoch 12/100\n",
      "\u001b[1m4233/4233\u001b[0m \u001b[32m━━━━━━━━━━━━━━━━━━━━\u001b[0m\u001b[37m\u001b[0m \u001b[1m26s\u001b[0m 6ms/step - accuracy: 0.8998 - loss: 0.2971 - sparse_categorical_accuracy: 0.8998 - val_accuracy: 0.8467 - val_loss: 0.5295 - val_sparse_categorical_accuracy: 0.8467\n",
      "Epoch 13/100\n",
      "\u001b[1m4233/4233\u001b[0m \u001b[32m━━━━━━━━━━━━━━━━━━━━\u001b[0m\u001b[37m\u001b[0m \u001b[1m26s\u001b[0m 6ms/step - accuracy: 0.9038 - loss: 0.2852 - sparse_categorical_accuracy: 0.9038 - val_accuracy: 0.8494 - val_loss: 0.5324 - val_sparse_categorical_accuracy: 0.8494\n",
      "Epoch 14/100\n",
      "\u001b[1m4233/4233\u001b[0m \u001b[32m━━━━━━━━━━━━━━━━━━━━\u001b[0m\u001b[37m\u001b[0m \u001b[1m37s\u001b[0m 5ms/step - accuracy: 0.9054 - loss: 0.2778 - sparse_categorical_accuracy: 0.9054 - val_accuracy: 0.8483 - val_loss: 0.5476 - val_sparse_categorical_accuracy: 0.8483\n",
      "Epoch 15/100\n",
      "\u001b[1m4233/4233\u001b[0m \u001b[32m━━━━━━━━━━━━━━━━━━━━\u001b[0m\u001b[37m\u001b[0m \u001b[1m26s\u001b[0m 6ms/step - accuracy: 0.9095 - loss: 0.2642 - sparse_categorical_accuracy: 0.9095 - val_accuracy: 0.8495 - val_loss: 0.5444 - val_sparse_categorical_accuracy: 0.8495\n",
      "Epoch 16/100\n",
      "\u001b[1m4233/4233\u001b[0m \u001b[32m━━━━━━━━━━━━━━━━━━━━\u001b[0m\u001b[37m\u001b[0m \u001b[1m37s\u001b[0m 5ms/step - accuracy: 0.9128 - loss: 0.2525 - sparse_categorical_accuracy: 0.9128 - val_accuracy: 0.8458 - val_loss: 0.5593 - val_sparse_categorical_accuracy: 0.8458\n",
      "Epoch 17/100\n",
      "\u001b[1m4233/4233\u001b[0m \u001b[32m━━━━━━━━━━━━━━━━━━━━\u001b[0m\u001b[37m\u001b[0m \u001b[1m27s\u001b[0m 6ms/step - accuracy: 0.9144 - loss: 0.2469 - sparse_categorical_accuracy: 0.9144 - val_accuracy: 0.8471 - val_loss: 0.5678 - val_sparse_categorical_accuracy: 0.8471\n",
      "Epoch 18/100\n",
      "\u001b[1m4233/4233\u001b[0m \u001b[32m━━━━━━━━━━━━━━━━━━━━\u001b[0m\u001b[37m\u001b[0m \u001b[1m37s\u001b[0m 5ms/step - accuracy: 0.9152 - loss: 0.2407 - sparse_categorical_accuracy: 0.9152 - val_accuracy: 0.8472 - val_loss: 0.5729 - val_sparse_categorical_accuracy: 0.8472\n",
      "Epoch 19/100\n",
      "\u001b[1m4233/4233\u001b[0m \u001b[32m━━━━━━━━━━━━━━━━━━━━\u001b[0m\u001b[37m\u001b[0m \u001b[1m26s\u001b[0m 6ms/step - accuracy: 0.9182 - loss: 0.2337 - sparse_categorical_accuracy: 0.9182 - val_accuracy: 0.8475 - val_loss: 0.5762 - val_sparse_categorical_accuracy: 0.8475\n",
      "Epoch 20/100\n",
      "\u001b[1m4233/4233\u001b[0m \u001b[32m━━━━━━━━━━━━━━━━━━━━\u001b[0m\u001b[37m\u001b[0m \u001b[1m26s\u001b[0m 6ms/step - accuracy: 0.9220 - loss: 0.2244 - sparse_categorical_accuracy: 0.9220 - val_accuracy: 0.8489 - val_loss: 0.5858 - val_sparse_categorical_accuracy: 0.8489\n",
      "Epoch 21/100\n",
      "\u001b[1m4233/4233\u001b[0m \u001b[32m━━━━━━━━━━━━━━━━━━━━\u001b[0m\u001b[37m\u001b[0m \u001b[1m37s\u001b[0m 5ms/step - accuracy: 0.9259 - loss: 0.2167 - sparse_categorical_accuracy: 0.9259 - val_accuracy: 0.8460 - val_loss: 0.5991 - val_sparse_categorical_accuracy: 0.8460\n",
      "Epoch 22/100\n",
      "\u001b[1m4233/4233\u001b[0m \u001b[32m━━━━━━━━━━━━━━━━━━━━\u001b[0m\u001b[37m\u001b[0m \u001b[1m27s\u001b[0m 6ms/step - accuracy: 0.9258 - loss: 0.2142 - sparse_categorical_accuracy: 0.9258 - val_accuracy: 0.8438 - val_loss: 0.6178 - val_sparse_categorical_accuracy: 0.8438\n",
      "Epoch 23/100\n",
      "\u001b[1m4233/4233\u001b[0m \u001b[32m━━━━━━━━━━━━━━━━━━━━\u001b[0m\u001b[37m\u001b[0m \u001b[1m37s\u001b[0m 5ms/step - accuracy: 0.9282 - loss: 0.2066 - sparse_categorical_accuracy: 0.9282 - val_accuracy: 0.8455 - val_loss: 0.6231 - val_sparse_categorical_accuracy: 0.8455\n",
      "Epoch 24/100\n",
      "\u001b[1m4233/4233\u001b[0m \u001b[32m━━━━━━━━━━━━━━━━━━━━\u001b[0m\u001b[37m\u001b[0m \u001b[1m40s\u001b[0m 5ms/step - accuracy: 0.9291 - loss: 0.2044 - sparse_categorical_accuracy: 0.9291 - val_accuracy: 0.8451 - val_loss: 0.6257 - val_sparse_categorical_accuracy: 0.8451\n",
      "Epoch 25/100\n",
      "\u001b[1m4233/4233\u001b[0m \u001b[32m━━━━━━━━━━━━━━━━━━━━\u001b[0m\u001b[37m\u001b[0m \u001b[1m43s\u001b[0m 6ms/step - accuracy: 0.9302 - loss: 0.2010 - sparse_categorical_accuracy: 0.9302 - val_accuracy: 0.8458 - val_loss: 0.6285 - val_sparse_categorical_accuracy: 0.8458\n"
     ]
    }
   ],
   "source": [
    "# Train the model\n",
    "history = model.fit(\n",
    "    [X_train_emb, X_train_ts],  # input emebdding and timestamp\n",
    "    y_train,  # target\n",
    "    epochs=100,  # number of epochs\n",
    "    batch_size=32,  # batch size\n",
    "    validation_data=([X_test_emb, X_test_ts], y_test),\n",
    "    callbacks=[early_stopping_callback, model_checkpoint_callback]  # validation data\n",
    ")"
   ]
  },
  {
   "cell_type": "markdown",
   "metadata": {},
   "source": [
    "## Evaluation"
   ]
  },
  {
   "cell_type": "markdown",
   "metadata": {},
   "source": [
    "### Plot Loss"
   ]
  },
  {
   "cell_type": "code",
   "execution_count": 344,
   "metadata": {},
   "outputs": [
    {
     "data": {
      "image/png": "[encoded data removed]",
      "text/plain": [
       "<Figure size 640x480 with 1 Axes>"
      ]
     },
     "metadata": {},
     "output_type": "display_data"
    }
   ],
   "source": [
    "plt.plot(history.history['loss'], label='train_loss')\n",
    "plt.plot(history.history['val_loss'], label='val_loss')\n",
    "plt.title('Model Loss')\n",
    "plt.xlabel('Epoch')\n",
    "plt.ylabel('Loss')\n",
    "plt.legend()\n",
    "plt.show()"
   ]
  },
  {
   "cell_type": "code",
   "execution_count": 345,
   "metadata": {},
   "outputs": [
    {
     "name": "stdout",
     "output_type": "stream",
     "text": [
      "\u001b[1m1059/1059\u001b[0m \u001b[32m━━━━━━━━━━━━━━━━━━━━\u001b[0m\u001b[37m\u001b[0m \u001b[1m3s\u001b[0m 3ms/step\n"
     ]
    }
   ],
   "source": [
    "y_pred_proba = model.predict([X_test_emb, X_test_ts])\n",
    "y_pred = np.argmax(y_pred_proba, axis=1)"
   ]
  },
  {
   "cell_type": "code",
   "execution_count": 346,
   "metadata": {},
   "outputs": [
    {
     "name": "stdout",
     "output_type": "stream",
     "text": [
      "Classification Report for Validation Data\n",
      "\n",
      "              precision    recall  f1-score   support\n",
      "\n",
      "     Class 0       0.92      0.92      0.92      2811\n",
      "     Class 1       0.92      0.94      0.93      1095\n",
      "     Class 2       0.93      0.92      0.92      1112\n",
      "     Class 3       0.88      0.88      0.88       665\n",
      "     Class 4       0.91      0.93      0.92       685\n",
      "     Class 5       0.74      0.90      0.81       936\n",
      "     Class 6       0.82      0.93      0.87       686\n",
      "     Class 7       0.89      0.90      0.90       592\n",
      "     Class 8       0.94      0.89      0.91       701\n",
      "     Class 9       0.98      0.98      0.98       502\n",
      "    Class 10       0.91      0.91      0.91       499\n",
      "    Class 11       0.80      0.88      0.84       529\n",
      "    Class 12       0.96      0.92      0.94       427\n",
      "    Class 13       0.93      0.92      0.92       377\n",
      "    Class 14       0.83      0.86      0.85       443\n",
      "    Class 15       0.88      0.92      0.90       585\n",
      "    Class 16       0.93      0.96      0.95       365\n",
      "    Class 17       0.91      0.87      0.89       375\n",
      "    Class 18       0.84      0.92      0.88       339\n",
      "    Class 19       0.81      0.82      0.81       397\n",
      "    Class 20       0.87      0.82      0.85       488\n",
      "    Class 21       0.78      0.89      0.83       387\n",
      "    Class 22       0.87      0.86      0.86       331\n",
      "    Class 23       0.75      0.90      0.82       344\n",
      "    Class 24       0.98      0.96      0.97       236\n",
      "    Class 25       0.76      0.87      0.81       729\n",
      "    Class 26       0.84      0.84      0.84       554\n",
      "    Class 27       0.83      0.90      0.86       245\n",
      "    Class 28       0.91      0.94      0.92       275\n",
      "    Class 29       0.91      0.93      0.92       243\n",
      "    Class 30       0.92      0.93      0.93       255\n",
      "    Class 31       0.92      0.90      0.91       252\n",
      "    Class 32       0.89      0.98      0.93       210\n",
      "    Class 33       0.94      0.87      0.90       238\n",
      "    Class 34       0.88      0.86      0.87       204\n",
      "    Class 35       0.92      0.90      0.91       226\n",
      "    Class 36       0.87      0.85      0.86       331\n",
      "    Class 37       0.84      0.82      0.83       238\n",
      "    Class 38       0.88      0.86      0.87       306\n",
      "    Class 39       0.81      0.86      0.84       221\n",
      "    Class 40       0.92      0.92      0.92       189\n",
      "    Class 41       0.98      0.92      0.95       199\n",
      "    Class 42       0.88      0.81      0.84       198\n",
      "    Class 43       0.83      0.86      0.85       204\n",
      "    Class 44       0.84      0.89      0.86       217\n",
      "    Class 45       0.76      0.73      0.74       304\n",
      "    Class 46       0.89      0.81      0.85       237\n",
      "    Class 47       0.80      0.80      0.80       374\n",
      "    Class 48       0.84      0.89      0.87       145\n",
      "    Class 49       0.96      0.92      0.94       140\n",
      "    Class 50       0.84      0.86      0.85       217\n",
      "    Class 51       0.94      0.90      0.92       153\n",
      "    Class 52       0.83      0.71      0.77       242\n",
      "    Class 53       0.81      0.88      0.84       237\n",
      "    Class 54       0.92      0.83      0.87       175\n",
      "    Class 55       0.85      0.90      0.87       182\n",
      "    Class 56       0.86      0.85      0.86       144\n",
      "    Class 57       0.95      0.88      0.91       121\n",
      "    Class 58       0.88      0.89      0.88       134\n",
      "    Class 59       0.80      0.78      0.79       161\n",
      "    Class 60       0.89      0.79      0.84       181\n",
      "    Class 61       0.94      0.95      0.94       116\n",
      "    Class 62       0.80      0.82      0.81       218\n",
      "    Class 63       0.94      0.83      0.88       126\n",
      "    Class 64       0.85      0.82      0.84       125\n",
      "    Class 65       0.99      0.93      0.96       107\n",
      "    Class 66       0.87      0.83      0.85       130\n",
      "    Class 67       0.81      0.73      0.76       264\n",
      "    Class 68       0.86      0.92      0.89        98\n",
      "    Class 69       0.95      0.80      0.87       103\n",
      "    Class 70       0.85      0.86      0.86       143\n",
      "    Class 71       0.86      0.86      0.86       170\n",
      "    Class 72       0.81      0.90      0.85        97\n",
      "    Class 73       0.89      0.77      0.83       132\n",
      "    Class 74       0.72      0.69      0.70       215\n",
      "    Class 75       0.80      0.76      0.78       386\n",
      "    Class 76       0.79      0.75      0.77       100\n",
      "    Class 77       0.86      0.92      0.89        73\n",
      "    Class 78       0.81      0.75      0.78       179\n",
      "    Class 79       0.81      0.85      0.83       104\n",
      "    Class 80       0.81      0.73      0.77       211\n",
      "    Class 81       0.69      0.79      0.74        66\n",
      "    Class 82       0.96      0.91      0.93        76\n",
      "    Class 83       0.81      0.67      0.73       115\n",
      "    Class 84       0.76      0.82      0.79       256\n",
      "    Class 85       0.98      0.86      0.92        66\n",
      "    Class 86       0.83      0.80      0.82        81\n",
      "    Class 87       0.83      0.83      0.83        63\n",
      "    Class 88       0.77      0.72      0.74       146\n",
      "    Class 89       0.70      0.70      0.70       290\n",
      "    Class 90       0.93      0.79      0.86       106\n",
      "    Class 91       0.85      0.86      0.85        91\n",
      "    Class 92       0.67      0.53      0.59       460\n",
      "    Class 93       0.81      0.69      0.74       118\n",
      "    Class 94       0.98      0.80      0.88        70\n",
      "    Class 95       0.60      0.60      0.60       137\n",
      "    Class 96       0.83      0.82      0.82        76\n",
      "    Class 97       0.71      0.59      0.65       400\n",
      "    Class 98       0.86      0.76      0.81        97\n",
      "    Class 99       0.70      0.69      0.70       632\n",
      "   Class 100       0.86      0.76      0.80       222\n",
      "   Class 101       0.92      0.87      0.89        52\n",
      "   Class 102       0.84      0.76      0.80        85\n",
      "   Class 103       0.76      0.94      0.84        47\n",
      "   Class 104       0.71      0.81      0.75        72\n",
      "   Class 105       0.88      0.67      0.76       529\n",
      "   Class 106       0.90      0.88      0.89        49\n",
      "   Class 107       0.98      0.94      0.96        63\n",
      "   Class 108       0.85      0.75      0.80        71\n",
      "   Class 109       0.87      0.58      0.70       106\n",
      "   Class 110       0.75      0.85      0.80        94\n",
      "   Class 111       0.89      0.78      0.83        81\n",
      "   Class 112       0.94      0.87      0.91        39\n",
      "   Class 113       0.86      0.92      0.89        52\n",
      "   Class 114       0.61      0.59      0.60       199\n",
      "   Class 115       0.87      0.93      0.90        42\n",
      "   Class 116       0.61      0.74      0.67       336\n",
      "   Class 117       0.93      0.89      0.91        56\n",
      "   Class 118       0.91      0.95      0.93        42\n",
      "   Class 119       0.66      0.61      0.63       495\n",
      "   Class 120       0.57      0.60      0.58        95\n",
      "\n",
      "    accuracy                           0.85     33858\n",
      "   macro avg       0.85      0.84      0.84     33858\n",
      "weighted avg       0.85      0.85      0.85     33858\n",
      "\n"
     ]
    }
   ],
   "source": [
    "report = classification_report(y_test, y_pred, target_names=[f'Class {i}' for i in range(121)])\n",
    "print(\"Classification Report for Validation Data\\n\")\n",
    "print(report)"
   ]
  },
  {
   "cell_type": "code",
   "execution_count": 347,
   "metadata": {},
   "outputs": [
    {
     "name": "stdout",
     "output_type": "stream",
     "text": [
      "Total AUC Score Validation Data: 0.9982\n"
     ]
    }
   ],
   "source": [
    "y_test_binarized = label_binarize(y_test, classes=np.arange(121))\n",
    "auc_score = roc_auc_score(y_test_binarized, y_pred_proba, average=\"macro\", multi_class=\"ovr\")\n",
    "print(f'Total AUC Score Validation Data: {auc_score:.4f}')"
   ]
  },
  {
   "cell_type": "code",
   "execution_count": 348,
   "metadata": {},
   "outputs": [
    {
     "name": "stdout",
     "output_type": "stream",
     "text": [
      "\u001b[1m4233/4233\u001b[0m \u001b[32m━━━━━━━━━━━━━━━━━━━━\u001b[0m\u001b[37m\u001b[0m \u001b[1m10s\u001b[0m 2ms/step\n",
      "Classification Report for Training Set\n",
      "\n",
      "              precision    recall  f1-score   support\n",
      "\n",
      "     Class 0       0.98      0.98      0.98     11272\n",
      "     Class 1       0.98      0.99      0.98      4270\n",
      "     Class 2       0.99      0.98      0.98      4584\n",
      "     Class 3       0.97      0.96      0.97      2703\n",
      "     Class 4       0.96      0.99      0.97      2502\n",
      "     Class 5       0.90      0.99      0.94      3648\n",
      "     Class 6       0.93      0.99      0.96      2739\n",
      "     Class 7       0.96      0.97      0.97      2254\n",
      "     Class 8       0.99      0.97      0.98      2582\n",
      "     Class 9       0.99      0.99      0.99      1960\n",
      "    Class 10       0.98      0.98      0.98      2063\n",
      "    Class 11       0.93      0.97      0.95      2163\n",
      "    Class 12       0.99      0.97      0.98      1673\n",
      "    Class 13       0.99      0.98      0.99      1593\n",
      "    Class 14       0.97      0.98      0.97      1771\n",
      "    Class 15       0.97      0.98      0.98      2410\n",
      "    Class 16       0.97      1.00      0.99      1408\n",
      "    Class 17       0.97      0.97      0.97      1550\n",
      "    Class 18       0.95      0.98      0.96      1548\n",
      "    Class 19       0.94      0.95      0.94      1545\n",
      "    Class 20       0.96      0.94      0.95      1862\n",
      "    Class 21       0.90      0.98      0.94      1649\n",
      "    Class 22       0.97      0.97      0.97      1319\n",
      "    Class 23       0.91      0.98      0.94      1458\n",
      "    Class 24       0.99      0.99      0.99       992\n",
      "    Class 25       0.90      0.95      0.93      3049\n",
      "    Class 26       0.96      0.97      0.97      2275\n",
      "    Class 27       0.95      0.99      0.97       997\n",
      "    Class 28       0.98      0.99      0.98      1056\n",
      "    Class 29       0.98      0.98      0.98       971\n",
      "    Class 30       0.98      0.99      0.99       961\n",
      "    Class 31       0.98      0.98      0.98       974\n",
      "    Class 32       0.98      1.00      0.99       916\n",
      "    Class 33       0.98      0.97      0.98       871\n",
      "    Class 34       0.98      0.98      0.98       870\n",
      "    Class 35       0.98      0.97      0.98       935\n",
      "    Class 36       0.98      0.95      0.96      1364\n",
      "    Class 37       0.97      0.95      0.96      1094\n",
      "    Class 38       0.96      0.97      0.96      1193\n",
      "    Class 39       0.95      0.98      0.97       936\n",
      "    Class 40       0.98      1.00      0.99       734\n",
      "    Class 41       1.00      0.96      0.98       650\n",
      "    Class 42       0.98      0.93      0.96       770\n",
      "    Class 43       0.97      0.98      0.98       806\n",
      "    Class 44       0.92      0.98      0.95       823\n",
      "    Class 45       0.95      0.91      0.93      1377\n",
      "    Class 46       0.98      0.96      0.97       842\n",
      "    Class 47       0.95      0.93      0.94      1476\n",
      "    Class 48       0.97      1.00      0.99       606\n",
      "    Class 49       0.99      0.99      0.99       600\n",
      "    Class 50       0.95      0.98      0.97       824\n",
      "    Class 51       0.99      0.98      0.98       603\n",
      "    Class 52       0.97      0.94      0.95       859\n",
      "    Class 53       0.95      0.98      0.96       953\n",
      "    Class 54       0.96      0.94      0.95       704\n",
      "    Class 55       0.95      0.96      0.95       781\n",
      "    Class 56       0.96      0.98      0.97       619\n",
      "    Class 57       0.98      0.99      0.99       575\n",
      "    Class 58       0.98      0.97      0.98       557\n",
      "    Class 59       0.98      0.96      0.97       669\n",
      "    Class 60       0.97      0.94      0.95       679\n",
      "    Class 61       0.99      0.99      0.99       430\n",
      "    Class 62       0.95      0.94      0.95       836\n",
      "    Class 63       1.00      0.97      0.99       462\n",
      "    Class 64       0.98      0.98      0.98       572\n",
      "    Class 65       1.00      0.98      0.99       419\n",
      "    Class 66       0.97      0.97      0.97       552\n",
      "    Class 67       0.95      0.93      0.94      1146\n",
      "    Class 68       0.98      1.00      0.99       385\n",
      "    Class 69       1.00      0.96      0.98       405\n",
      "    Class 70       0.95      0.99      0.97       538\n",
      "    Class 71       0.97      0.98      0.98       569\n",
      "    Class 72       0.95      1.00      0.97       419\n",
      "    Class 73       0.99      0.91      0.95       466\n",
      "    Class 74       0.93      0.89      0.91       929\n",
      "    Class 75       0.92      0.90      0.91      1430\n",
      "    Class 76       0.96      0.97      0.96       442\n",
      "    Class 77       0.99      1.00      1.00       319\n",
      "    Class 78       0.97      0.96      0.96       696\n",
      "    Class 79       0.97      0.96      0.96       409\n",
      "    Class 80       0.93      0.89      0.91       867\n",
      "    Class 81       0.94      1.00      0.97       291\n",
      "    Class 82       0.99      1.00      0.99       280\n",
      "    Class 83       0.99      0.90      0.94       434\n",
      "    Class 84       0.92      0.95      0.93      1015\n",
      "    Class 85       1.00      0.97      0.99       272\n",
      "    Class 86       0.97      0.97      0.97       320\n",
      "    Class 87       0.99      1.00      0.99       268\n",
      "    Class 88       0.96      0.92      0.94       602\n",
      "    Class 89       0.89      0.94      0.91      1079\n",
      "    Class 90       0.99      0.94      0.96       407\n",
      "    Class 91       0.97      0.98      0.98       308\n",
      "    Class 92       0.92      0.82      0.87      1780\n",
      "    Class 93       0.99      0.94      0.96       429\n",
      "    Class 94       1.00      0.97      0.99       237\n",
      "    Class 95       0.85      0.87      0.86       538\n",
      "    Class 96       0.98      0.99      0.98       303\n",
      "    Class 97       0.93      0.77      0.84      1637\n",
      "    Class 98       0.97      0.92      0.95       396\n",
      "    Class 99       0.94      0.91      0.93      2444\n",
      "   Class 100       0.96      0.91      0.93       916\n",
      "   Class 101       0.99      0.99      0.99       244\n",
      "   Class 102       0.96      0.95      0.95       338\n",
      "   Class 103       0.97      0.99      0.98       260\n",
      "   Class 104       0.93      0.96      0.94       283\n",
      "   Class 105       0.98      0.82      0.89      1931\n",
      "   Class 106       1.00      1.00      1.00       200\n",
      "   Class 107       0.99      0.99      0.99       203\n",
      "   Class 108       0.99      0.91      0.95       330\n",
      "   Class 109       0.99      0.87      0.93       492\n",
      "   Class 110       0.93      0.98      0.95       382\n",
      "   Class 111       0.94      0.93      0.94       317\n",
      "   Class 112       0.99      0.99      0.99       185\n",
      "   Class 113       0.98      0.97      0.97       238\n",
      "   Class 114       0.88      0.83      0.86       865\n",
      "   Class 115       0.99      1.00      1.00       172\n",
      "   Class 116       0.83      0.94      0.88      1418\n",
      "   Class 117       0.99      0.97      0.98       162\n",
      "   Class 118       0.99      0.98      0.98       168\n",
      "   Class 119       0.95      0.87      0.91      2094\n",
      "   Class 120       0.91      0.84      0.87       414\n",
      "\n",
      "    accuracy                           0.96    135430\n",
      "   macro avg       0.96      0.96      0.96    135430\n",
      "weighted avg       0.96      0.96      0.96    135430\n",
      "\n"
     ]
    }
   ],
   "source": [
    "y_train_pred_proba = model.predict([X_train_emb, X_train_ts])\n",
    "y_train_pred = np.argmax(y_train_pred_proba, axis=1)\n",
    "train_report = classification_report(y_train, y_train_pred, target_names=[f'Class {i}' for i in range(121)])\n",
    "print(\"Classification Report for Training Set\\n\")\n",
    "print(train_report)"
   ]
  },
  {
   "cell_type": "code",
   "execution_count": 349,
   "metadata": {},
   "outputs": [
    {
     "name": "stdout",
     "output_type": "stream",
     "text": [
      "Total AUC Score Training Data: 0.9999\n"
     ]
    }
   ],
   "source": [
    "y_train_binarized = label_binarize(y_train, classes=np.arange(121))\n",
    "train_auc_score = roc_auc_score(y_train_binarized, y_train_pred_proba, average=\"macro\", multi_class=\"ovr\")\n",
    "print(f'Total AUC Score Training Data: {train_auc_score:.4f}')"
   ]
  },
  {
   "cell_type": "code",
   "execution_count": 350,
   "metadata": {},
   "outputs": [
    {
     "name": "stderr",
     "output_type": "stream",
     "text": [
      "WARNING:absl:You are saving your model as an HDF5 file via `model.save()` or `keras.saving.save_model(model)`. This file format is considered legacy. We recommend using instead the native Keras format, e.g. `model.save('my_model.keras')` or `keras.saving.save_model(model, 'my_model.keras')`. \n"
     ]
    }
   ],
   "source": [
    "model.save('LSTM_content.h5')"
   ]
  },
  {
   "cell_type": "markdown",
   "metadata": {},
   "source": [
    "# 2° Model"
   ]
  },
  {
   "cell_type": "code",
   "execution_count": 54,
   "metadata": {},
   "outputs": [],
   "source": [
    "# Define the embedding input layer\n",
    "embedding_input = Input(shape=(384,))\n",
    "\n",
    "# Define the timestamp input layer\n",
    "timestamp_input = Input(shape=(1,))\n",
    "\n",
    "# Dense layer applied to the embedding input\n",
    "x = Dense(512, activation='relu')(embedding_input)\n",
    "x = BatchNormalization()(x)\n",
    "x = Dropout(0.3)(x)\n",
    "x = Dense(256, activation='relu')(x)\n",
    "x = BatchNormalization()(x)\n",
    "x = Dropout(0.3)(x)\n",
    "\n",
    "# Bidirectional LSTM layer applied to the timestamp input\n",
    "# Add an extra dimension to fit the LSTM input shape requirement\n",
    "timestamp_input_reshaped = Reshape((1, 1))(timestamp_input)\n",
    "y = Bidirectional(LSTM(100, return_sequences=False))(timestamp_input_reshaped)\n",
    "y = Dropout(0.3)(y)\n",
    "\n",
    "# Concatenate the outputs of the dense and LSTM layers\n",
    "combined = concatenate([x, y])\n",
    "\n",
    "# Additional dense layer with ReLU activation\n",
    "z = Dense(200, activation='relu')(combined)\n",
    "z = BatchNormalization()(z)\n",
    "z = Dropout(0.3)(z)\n",
    "\n",
    "# Output layer with softmax activation for multi-class classification\n",
    "output = Dense(121, activation='softmax')(z)\n",
    "\n",
    "# Define the model with input and output layers\n",
    "model = Model(inputs=[embedding_input, timestamp_input], outputs=output)\n",
    "\n",
    "# Compile the model with Adam optimizer, sparse categorical crossentropy loss,\n",
    "# and metrics including accuracy and sparse categorical accuracy\n",
    "optimizer = Adam(learning_rate=0.001)\n",
    "model.compile(optimizer=optimizer, loss='sparse_categorical_crossentropy', \n",
    "              metrics=['accuracy', 'sparse_categorical_accuracy'])"
   ]
  },
  {
   "cell_type": "code",
   "execution_count": 55,
   "metadata": {},
   "outputs": [
    {
     "name": "stdout",
     "output_type": "stream",
     "text": [
      "Epoch 1/100\n",
      "\u001b[1m4233/4233\u001b[0m \u001b[32m━━━━━━━━━━━━━━━━━━━━\u001b[0m\u001b[37m\u001b[0m \u001b[1m48s\u001b[0m 10ms/step - accuracy: 0.5943 - loss: 1.6586 - sparse_categorical_accuracy: 0.5943 - val_accuracy: 0.8150 - val_loss: 0.6173 - val_sparse_categorical_accuracy: 0.8150 - learning_rate: 0.0010\n",
      "Epoch 2/100\n",
      "\u001b[1m4233/4233\u001b[0m \u001b[32m━━━━━━━━━━━━━━━━━━━━\u001b[0m\u001b[37m\u001b[0m \u001b[1m47s\u001b[0m 11ms/step - accuracy: 0.7672 - loss: 0.8122 - sparse_categorical_accuracy: 0.7672 - val_accuracy: 0.8339 - val_loss: 0.5485 - val_sparse_categorical_accuracy: 0.8339 - learning_rate: 0.0010\n",
      "Epoch 3/100\n",
      "\u001b[1m4233/4233\u001b[0m \u001b[32m━━━━━━━━━━━━━━━━━━━━\u001b[0m\u001b[37m\u001b[0m \u001b[1m37s\u001b[0m 9ms/step - accuracy: 0.7925 - loss: 0.7130 - sparse_categorical_accuracy: 0.7925 - val_accuracy: 0.8393 - val_loss: 0.5297 - val_sparse_categorical_accuracy: 0.8393 - learning_rate: 0.0010\n",
      "Epoch 4/100\n",
      "\u001b[1m4233/4233\u001b[0m \u001b[32m━━━━━━━━━━━━━━━━━━━━\u001b[0m\u001b[37m\u001b[0m \u001b[1m41s\u001b[0m 10ms/step - accuracy: 0.8073 - loss: 0.6497 - sparse_categorical_accuracy: 0.8073 - val_accuracy: 0.8456 - val_loss: 0.5167 - val_sparse_categorical_accuracy: 0.8456 - learning_rate: 0.0010\n",
      "Epoch 5/100\n",
      "\u001b[1m4233/4233\u001b[0m \u001b[32m━━━━━━━━━━━━━━━━━━━━\u001b[0m\u001b[37m\u001b[0m \u001b[1m50s\u001b[0m 12ms/step - accuracy: 0.8157 - loss: 0.6174 - sparse_categorical_accuracy: 0.8157 - val_accuracy: 0.8486 - val_loss: 0.4998 - val_sparse_categorical_accuracy: 0.8486 - learning_rate: 0.0010\n",
      "Epoch 6/100\n",
      "\u001b[1m4233/4233\u001b[0m \u001b[32m━━━━━━━━━━━━━━━━━━━━\u001b[0m\u001b[37m\u001b[0m \u001b[1m55s\u001b[0m 13ms/step - accuracy: 0.8277 - loss: 0.5766 - sparse_categorical_accuracy: 0.8277 - val_accuracy: 0.8512 - val_loss: 0.4888 - val_sparse_categorical_accuracy: 0.8512 - learning_rate: 0.0010\n",
      "Epoch 7/100\n",
      "\u001b[1m4233/4233\u001b[0m \u001b[32m━━━━━━━━━━━━━━━━━━━━\u001b[0m\u001b[37m\u001b[0m \u001b[1m76s\u001b[0m 18ms/step - accuracy: 0.8337 - loss: 0.5477 - sparse_categorical_accuracy: 0.8337 - val_accuracy: 0.8519 - val_loss: 0.4845 - val_sparse_categorical_accuracy: 0.8519 - learning_rate: 0.0010\n",
      "Epoch 8/100\n",
      "\u001b[1m4233/4233\u001b[0m \u001b[32m━━━━━━━━━━━━━━━━━━━━\u001b[0m\u001b[37m\u001b[0m \u001b[1m73s\u001b[0m 17ms/step - accuracy: 0.8394 - loss: 0.5270 - sparse_categorical_accuracy: 0.8394 - val_accuracy: 0.8560 - val_loss: 0.4754 - val_sparse_categorical_accuracy: 0.8560 - learning_rate: 0.0010\n",
      "Epoch 9/100\n",
      "\u001b[1m4233/4233\u001b[0m \u001b[32m━━━━━━━━━━━━━━━━━━━━\u001b[0m\u001b[37m\u001b[0m \u001b[1m70s\u001b[0m 17ms/step - accuracy: 0.8445 - loss: 0.5080 - sparse_categorical_accuracy: 0.8445 - val_accuracy: 0.8569 - val_loss: 0.4736 - val_sparse_categorical_accuracy: 0.8569 - learning_rate: 0.0010\n",
      "Epoch 10/100\n",
      "\u001b[1m4233/4233\u001b[0m \u001b[32m━━━━━━━━━━━━━━━━━━━━\u001b[0m\u001b[37m\u001b[0m \u001b[1m57s\u001b[0m 14ms/step - accuracy: 0.8491 - loss: 0.4872 - sparse_categorical_accuracy: 0.8491 - val_accuracy: 0.8573 - val_loss: 0.4734 - val_sparse_categorical_accuracy: 0.8573 - learning_rate: 0.0010\n",
      "Epoch 11/100\n",
      "\u001b[1m4233/4233\u001b[0m \u001b[32m━━━━━━━━━━━━━━━━━━━━\u001b[0m\u001b[37m\u001b[0m \u001b[1m55s\u001b[0m 13ms/step - accuracy: 0.8547 - loss: 0.4733 - sparse_categorical_accuracy: 0.8547 - val_accuracy: 0.8605 - val_loss: 0.4688 - val_sparse_categorical_accuracy: 0.8605 - learning_rate: 0.0010\n",
      "Epoch 12/100\n",
      "\u001b[1m4233/4233\u001b[0m \u001b[32m━━━━━━━━━━━━━━━━━━━━\u001b[0m\u001b[37m\u001b[0m \u001b[1m57s\u001b[0m 13ms/step - accuracy: 0.8575 - loss: 0.4580 - sparse_categorical_accuracy: 0.8575 - val_accuracy: 0.8579 - val_loss: 0.4700 - val_sparse_categorical_accuracy: 0.8579 - learning_rate: 0.0010\n",
      "Epoch 13/100\n",
      "\u001b[1m4233/4233\u001b[0m \u001b[32m━━━━━━━━━━━━━━━━━━━━\u001b[0m\u001b[37m\u001b[0m \u001b[1m62s\u001b[0m 15ms/step - accuracy: 0.8602 - loss: 0.4437 - sparse_categorical_accuracy: 0.8602 - val_accuracy: 0.8602 - val_loss: 0.4672 - val_sparse_categorical_accuracy: 0.8602 - learning_rate: 0.0010\n",
      "Epoch 14/100\n",
      "\u001b[1m4233/4233\u001b[0m \u001b[32m━━━━━━━━━━━━━━━━━━━━\u001b[0m\u001b[37m\u001b[0m \u001b[1m79s\u001b[0m 14ms/step - accuracy: 0.8638 - loss: 0.4345 - sparse_categorical_accuracy: 0.8638 - val_accuracy: 0.8600 - val_loss: 0.4682 - val_sparse_categorical_accuracy: 0.8600 - learning_rate: 0.0010\n",
      "Epoch 15/100\n",
      "\u001b[1m4233/4233\u001b[0m \u001b[32m━━━━━━━━━━━━━━━━━━━━\u001b[0m\u001b[37m\u001b[0m \u001b[1m58s\u001b[0m 14ms/step - accuracy: 0.8673 - loss: 0.4243 - sparse_categorical_accuracy: 0.8673 - val_accuracy: 0.8608 - val_loss: 0.4716 - val_sparse_categorical_accuracy: 0.8608 - learning_rate: 0.0010\n",
      "Epoch 16/100\n",
      "\u001b[1m4233/4233\u001b[0m \u001b[32m━━━━━━━━━━━━━━━━━━━━\u001b[0m\u001b[37m\u001b[0m \u001b[1m59s\u001b[0m 14ms/step - accuracy: 0.8708 - loss: 0.4110 - sparse_categorical_accuracy: 0.8708 - val_accuracy: 0.8624 - val_loss: 0.4667 - val_sparse_categorical_accuracy: 0.8624 - learning_rate: 0.0010\n",
      "Epoch 17/100\n",
      "\u001b[1m4233/4233\u001b[0m \u001b[32m━━━━━━━━━━━━━━━━━━━━\u001b[0m\u001b[37m\u001b[0m \u001b[1m64s\u001b[0m 15ms/step - accuracy: 0.8723 - loss: 0.4050 - sparse_categorical_accuracy: 0.8723 - val_accuracy: 0.8617 - val_loss: 0.4692 - val_sparse_categorical_accuracy: 0.8617 - learning_rate: 0.0010\n",
      "Epoch 18/100\n",
      "\u001b[1m4233/4233\u001b[0m \u001b[32m━━━━━━━━━━━━━━━━━━━━\u001b[0m\u001b[37m\u001b[0m \u001b[1m73s\u001b[0m 17ms/step - accuracy: 0.8742 - loss: 0.3958 - sparse_categorical_accuracy: 0.8742 - val_accuracy: 0.8619 - val_loss: 0.4695 - val_sparse_categorical_accuracy: 0.8619 - learning_rate: 0.0010\n",
      "Epoch 19/100\n",
      "\u001b[1m4233/4233\u001b[0m \u001b[32m━━━━━━━━━━━━━━━━━━━━\u001b[0m\u001b[37m\u001b[0m \u001b[1m64s\u001b[0m 15ms/step - accuracy: 0.8768 - loss: 0.3864 - sparse_categorical_accuracy: 0.8768 - val_accuracy: 0.8609 - val_loss: 0.4776 - val_sparse_categorical_accuracy: 0.8609 - learning_rate: 0.0010\n",
      "Epoch 20/100\n",
      "\u001b[1m4233/4233\u001b[0m \u001b[32m━━━━━━━━━━━━━━━━━━━━\u001b[0m\u001b[37m\u001b[0m \u001b[1m62s\u001b[0m 15ms/step - accuracy: 0.8799 - loss: 0.3815 - sparse_categorical_accuracy: 0.8799 - val_accuracy: 0.8622 - val_loss: 0.4689 - val_sparse_categorical_accuracy: 0.8622 - learning_rate: 0.0010\n",
      "Epoch 21/100\n",
      "\u001b[1m4233/4233\u001b[0m \u001b[32m━━━━━━━━━━━━━━━━━━━━\u001b[0m\u001b[37m\u001b[0m \u001b[1m85s\u001b[0m 15ms/step - accuracy: 0.8805 - loss: 0.3772 - sparse_categorical_accuracy: 0.8805 - val_accuracy: 0.8636 - val_loss: 0.4690 - val_sparse_categorical_accuracy: 0.8636 - learning_rate: 0.0010\n",
      "Epoch 22/100\n",
      "\u001b[1m4233/4233\u001b[0m \u001b[32m━━━━━━━━━━━━━━━━━━━━\u001b[0m\u001b[37m\u001b[0m \u001b[1m66s\u001b[0m 15ms/step - accuracy: 0.8904 - loss: 0.3432 - sparse_categorical_accuracy: 0.8904 - val_accuracy: 0.8673 - val_loss: 0.4629 - val_sparse_categorical_accuracy: 0.8673 - learning_rate: 5.0000e-04\n",
      "Epoch 23/100\n",
      "\u001b[1m4233/4233\u001b[0m \u001b[32m━━━━━━━━━━━━━━━━━━━━\u001b[0m\u001b[37m\u001b[0m \u001b[1m81s\u001b[0m 15ms/step - accuracy: 0.8958 - loss: 0.3222 - sparse_categorical_accuracy: 0.8958 - val_accuracy: 0.8666 - val_loss: 0.4661 - val_sparse_categorical_accuracy: 0.8666 - learning_rate: 5.0000e-04\n",
      "Epoch 24/100\n",
      "\u001b[1m4233/4233\u001b[0m \u001b[32m━━━━━━━━━━━━━━━━━━━━\u001b[0m\u001b[37m\u001b[0m \u001b[1m57s\u001b[0m 13ms/step - accuracy: 0.9003 - loss: 0.3077 - sparse_categorical_accuracy: 0.9003 - val_accuracy: 0.8666 - val_loss: 0.4729 - val_sparse_categorical_accuracy: 0.8666 - learning_rate: 5.0000e-04\n",
      "Epoch 25/100\n",
      "\u001b[1m4233/4233\u001b[0m \u001b[32m━━━━━━━━━━━━━━━━━━━━\u001b[0m\u001b[37m\u001b[0m \u001b[1m57s\u001b[0m 13ms/step - accuracy: 0.9029 - loss: 0.2988 - sparse_categorical_accuracy: 0.9029 - val_accuracy: 0.8666 - val_loss: 0.4727 - val_sparse_categorical_accuracy: 0.8666 - learning_rate: 5.0000e-04\n",
      "Epoch 26/100\n",
      "\u001b[1m4233/4233\u001b[0m \u001b[32m━━━━━━━━━━━━━━━━━━━━\u001b[0m\u001b[37m\u001b[0m \u001b[1m96s\u001b[0m 17ms/step - accuracy: 0.9030 - loss: 0.2966 - sparse_categorical_accuracy: 0.9030 - val_accuracy: 0.8675 - val_loss: 0.4773 - val_sparse_categorical_accuracy: 0.8675 - learning_rate: 5.0000e-04\n",
      "Epoch 27/100\n",
      "\u001b[1m4233/4233\u001b[0m \u001b[32m━━━━━━━━━━━━━━━━━━━━\u001b[0m\u001b[37m\u001b[0m \u001b[1m74s\u001b[0m 15ms/step - accuracy: 0.9042 - loss: 0.2932 - sparse_categorical_accuracy: 0.9042 - val_accuracy: 0.8682 - val_loss: 0.4763 - val_sparse_categorical_accuracy: 0.8682 - learning_rate: 5.0000e-04\n",
      "Epoch 28/100\n",
      "\u001b[1m4233/4233\u001b[0m \u001b[32m━━━━━━━━━━━━━━━━━━━━\u001b[0m\u001b[37m\u001b[0m \u001b[1m69s\u001b[0m 16ms/step - accuracy: 0.9088 - loss: 0.2773 - sparse_categorical_accuracy: 0.9088 - val_accuracy: 0.8679 - val_loss: 0.4753 - val_sparse_categorical_accuracy: 0.8679 - learning_rate: 2.5000e-04\n",
      "Epoch 29/100\n",
      "\u001b[1m4233/4233\u001b[0m \u001b[32m━━━━━━━━━━━━━━━━━━━━\u001b[0m\u001b[37m\u001b[0m \u001b[1m76s\u001b[0m 18ms/step - accuracy: 0.9126 - loss: 0.2687 - sparse_categorical_accuracy: 0.9126 - val_accuracy: 0.8695 - val_loss: 0.4790 - val_sparse_categorical_accuracy: 0.8695 - learning_rate: 2.5000e-04\n",
      "Epoch 30/100\n",
      "\u001b[1m4233/4233\u001b[0m \u001b[32m━━━━━━━━━━━━━━━━━━━━\u001b[0m\u001b[37m\u001b[0m \u001b[1m84s\u001b[0m 18ms/step - accuracy: 0.9156 - loss: 0.2570 - sparse_categorical_accuracy: 0.9156 - val_accuracy: 0.8677 - val_loss: 0.4838 - val_sparse_categorical_accuracy: 0.8677 - learning_rate: 2.5000e-04\n",
      "Epoch 31/100\n",
      "\u001b[1m4233/4233\u001b[0m \u001b[32m━━━━━━━━━━━━━━━━━━━━\u001b[0m\u001b[37m\u001b[0m \u001b[1m69s\u001b[0m 16ms/step - accuracy: 0.9147 - loss: 0.2610 - sparse_categorical_accuracy: 0.9147 - val_accuracy: 0.8679 - val_loss: 0.4866 - val_sparse_categorical_accuracy: 0.8679 - learning_rate: 2.5000e-04\n",
      "Epoch 32/100\n",
      "\u001b[1m4233/4233\u001b[0m \u001b[32m━━━━━━━━━━━━━━━━━━━━\u001b[0m\u001b[37m\u001b[0m \u001b[1m79s\u001b[0m 16ms/step - accuracy: 0.9169 - loss: 0.2574 - sparse_categorical_accuracy: 0.9169 - val_accuracy: 0.8681 - val_loss: 0.4889 - val_sparse_categorical_accuracy: 0.8681 - learning_rate: 2.5000e-04\n"
     ]
    }
   ],
   "source": [
    "early_stopping_callback = EarlyStopping(monitor='val_loss', patience=10, restore_best_weights=True)\n",
    "model_checkpoint_callback = ModelCheckpoint(filepath='model_2checkpoint.weights.h5', save_weights_only=True,\n",
    "                                            monitor='val_accuracy', mode='max', save_best_only=True)\n",
    "reduce = ReduceLROnPlateau(monitor='val_loss', factor=0.5, patience=5, min_lr=1e-6)\n",
    "\n",
    "# Train the model\n",
    "history = model.fit(\n",
    "    [X_train_emb, X_train_ts],  # input for embeddings and time series\n",
    "    y_train,  # multilabel binary targets\n",
    "    epochs=100,  # number of epochs\n",
    "    batch_size=32,  # batch size\n",
    "    validation_data=([X_test_emb, X_test_ts], y_test),  # validation data\n",
    "    callbacks=[early_stopping_callback, model_checkpoint_callback, reduce]  # callbacks\n",
    ")"
   ]
  },
  {
   "cell_type": "code",
   "execution_count": 56,
   "metadata": {},
   "outputs": [
    {
     "data": {
      "image/png": "[encoded data removed]",
      "text/plain": [
       "<Figure size 640x480 with 1 Axes>"
      ]
     },
     "metadata": {},
     "output_type": "display_data"
    }
   ],
   "source": [
    "plt.plot(history.history['loss'], label='train_loss')\n",
    "plt.plot(history.history['val_loss'], label='val_loss')\n",
    "plt.title('Model Loss')\n",
    "plt.xlabel('Epoch')\n",
    "plt.ylabel('Loss')\n",
    "plt.legend()\n",
    "plt.show()"
   ]
  },
  {
   "cell_type": "code",
   "execution_count": 58,
   "metadata": {},
   "outputs": [
    {
     "data": {
      "image/png": "[encoded data removed]",
      "text/plain": [
       "<Figure size 640x480 with 1 Axes>"
      ]
     },
     "metadata": {},
     "output_type": "display_data"
    }
   ],
   "source": [
    "plt.plot(history.history['accuracy'], label='train_accuracy')\n",
    "plt.plot(history.history['val_accuracy'], label='val_accuracy')\n",
    "plt.title('Model Loss')\n",
    "plt.xlabel('Epoch')\n",
    "plt.ylabel('Accuracy')\n",
    "plt.legend()\n",
    "plt.show()"
   ]
  },
  {
   "cell_type": "code",
   "execution_count": 59,
   "metadata": {},
   "outputs": [
    {
     "name": "stdout",
     "output_type": "stream",
     "text": [
      "\u001b[1m1059/1059\u001b[0m \u001b[32m━━━━━━━━━━━━━━━━━━━━\u001b[0m\u001b[37m\u001b[0m \u001b[1m5s\u001b[0m 4ms/step\n",
      "Classification Report for Validation Data\n",
      "\n",
      "              precision    recall  f1-score   support\n",
      "\n",
      "     Class 0       0.91      0.94      0.93      2811\n",
      "     Class 1       0.95      0.94      0.95      1095\n",
      "     Class 2       0.95      0.93      0.94      1112\n",
      "     Class 3       0.86      0.91      0.89       665\n",
      "     Class 4       0.93      0.94      0.93       685\n",
      "     Class 5       0.84      0.87      0.86       936\n",
      "     Class 6       0.90      0.89      0.89       686\n",
      "     Class 7       0.92      0.93      0.92       592\n",
      "     Class 8       0.91      0.92      0.92       701\n",
      "     Class 9       0.98      0.98      0.98       502\n",
      "    Class 10       0.92      0.95      0.93       499\n",
      "    Class 11       0.84      0.87      0.86       529\n",
      "    Class 12       0.96      0.94      0.95       427\n",
      "    Class 13       0.91      0.96      0.94       377\n",
      "    Class 14       0.86      0.88      0.87       443\n",
      "    Class 15       0.89      0.92      0.91       585\n",
      "    Class 16       0.99      0.95      0.97       365\n",
      "    Class 17       0.91      0.90      0.91       375\n",
      "    Class 18       0.88      0.89      0.88       339\n",
      "    Class 19       0.80      0.85      0.82       397\n",
      "    Class 20       0.87      0.85      0.86       488\n",
      "    Class 21       0.84      0.88      0.86       387\n",
      "    Class 22       0.89      0.87      0.88       331\n",
      "    Class 23       0.86      0.88      0.87       344\n",
      "    Class 24       0.97      0.98      0.98       236\n",
      "    Class 25       0.83      0.84      0.84       729\n",
      "    Class 26       0.83      0.87      0.85       554\n",
      "    Class 27       0.89      0.89      0.89       245\n",
      "    Class 28       0.93      0.95      0.94       275\n",
      "    Class 29       0.94      0.92      0.93       243\n",
      "    Class 30       0.94      0.93      0.94       255\n",
      "    Class 31       0.92      0.92      0.92       252\n",
      "    Class 32       0.95      0.95      0.95       210\n",
      "    Class 33       0.93      0.88      0.91       238\n",
      "    Class 34       0.88      0.87      0.87       204\n",
      "    Class 35       0.93      0.92      0.93       226\n",
      "    Class 36       0.87      0.87      0.87       331\n",
      "    Class 37       0.82      0.87      0.84       238\n",
      "    Class 38       0.91      0.85      0.88       306\n",
      "    Class 39       0.86      0.86      0.86       221\n",
      "    Class 40       0.90      0.94      0.92       189\n",
      "    Class 41       0.96      0.95      0.96       199\n",
      "    Class 42       0.87      0.84      0.86       198\n",
      "    Class 43       0.85      0.89      0.87       204\n",
      "    Class 44       0.89      0.86      0.87       217\n",
      "    Class 45       0.69      0.76      0.72       304\n",
      "    Class 46       0.89      0.87      0.88       237\n",
      "    Class 47       0.85      0.80      0.83       374\n",
      "    Class 48       0.89      0.90      0.90       145\n",
      "    Class 49       0.93      0.94      0.94       140\n",
      "    Class 50       0.88      0.88      0.88       217\n",
      "    Class 51       0.93      0.90      0.92       153\n",
      "    Class 52       0.83      0.81      0.82       242\n",
      "    Class 53       0.86      0.86      0.86       237\n",
      "    Class 54       0.89      0.90      0.89       175\n",
      "    Class 55       0.91      0.90      0.90       182\n",
      "    Class 56       0.88      0.86      0.87       144\n",
      "    Class 57       0.94      0.88      0.91       121\n",
      "    Class 58       0.87      0.90      0.89       134\n",
      "    Class 59       0.82      0.80      0.81       161\n",
      "    Class 60       0.88      0.85      0.86       181\n",
      "    Class 61       0.96      0.97      0.97       116\n",
      "    Class 62       0.84      0.85      0.85       218\n",
      "    Class 63       0.89      0.87      0.88       126\n",
      "    Class 64       0.85      0.88      0.86       125\n",
      "    Class 65       0.96      0.97      0.97       107\n",
      "    Class 66       0.85      0.81      0.83       130\n",
      "    Class 67       0.80      0.76      0.78       264\n",
      "    Class 68       0.90      0.92      0.91        98\n",
      "    Class 69       0.91      0.87      0.89       103\n",
      "    Class 70       0.90      0.85      0.87       143\n",
      "    Class 71       0.89      0.84      0.86       170\n",
      "    Class 72       0.89      0.82      0.86        97\n",
      "    Class 73       0.90      0.79      0.84       132\n",
      "    Class 74       0.75      0.78      0.76       215\n",
      "    Class 75       0.80      0.73      0.76       386\n",
      "    Class 76       0.87      0.82      0.85       100\n",
      "    Class 77       0.88      0.93      0.91        73\n",
      "    Class 78       0.74      0.82      0.78       179\n",
      "    Class 79       0.80      0.93      0.86       104\n",
      "    Class 80       0.81      0.79      0.80       211\n",
      "    Class 81       0.88      0.77      0.82        66\n",
      "    Class 82       0.96      0.92      0.94        76\n",
      "    Class 83       0.80      0.79      0.79       115\n",
      "    Class 84       0.82      0.81      0.81       256\n",
      "    Class 85       0.91      0.91      0.91        66\n",
      "    Class 86       0.92      0.85      0.88        81\n",
      "    Class 87       0.86      0.86      0.86        63\n",
      "    Class 88       0.82      0.73      0.77       146\n",
      "    Class 89       0.71      0.71      0.71       290\n",
      "    Class 90       0.91      0.80      0.85       106\n",
      "    Class 91       0.86      0.88      0.87        91\n",
      "    Class 92       0.65      0.63      0.64       460\n",
      "    Class 93       0.89      0.73      0.80       118\n",
      "    Class 94       0.97      0.90      0.93        70\n",
      "    Class 95       0.70      0.58      0.64       137\n",
      "    Class 96       0.83      0.83      0.83        76\n",
      "    Class 97       0.69      0.64      0.67       400\n",
      "    Class 98       0.85      0.90      0.87        97\n",
      "    Class 99       0.69      0.74      0.71       632\n",
      "   Class 100       0.81      0.79      0.80       222\n",
      "   Class 101       0.91      0.83      0.87        52\n",
      "   Class 102       0.81      0.85      0.83        85\n",
      "   Class 103       0.98      0.89      0.93        47\n",
      "   Class 104       0.75      0.85      0.80        72\n",
      "   Class 105       0.82      0.80      0.81       529\n",
      "   Class 106       0.98      0.92      0.95        49\n",
      "   Class 107       0.94      0.98      0.96        63\n",
      "   Class 108       0.73      0.86      0.79        71\n",
      "   Class 109       0.83      0.70      0.76       106\n",
      "   Class 110       0.87      0.80      0.83        94\n",
      "   Class 111       0.90      0.81      0.86        81\n",
      "   Class 112       0.92      0.85      0.88        39\n",
      "   Class 113       0.87      0.92      0.90        52\n",
      "   Class 114       0.72      0.55      0.63       199\n",
      "   Class 115       0.89      0.93      0.91        42\n",
      "   Class 116       0.71      0.72      0.71       336\n",
      "   Class 117       0.98      0.88      0.92        56\n",
      "   Class 118       0.95      0.95      0.95        42\n",
      "   Class 119       0.64      0.67      0.65       495\n",
      "   Class 120       0.66      0.60      0.63        95\n",
      "\n",
      "    accuracy                           0.87     33858\n",
      "   macro avg       0.87      0.86      0.86     33858\n",
      "weighted avg       0.87      0.87      0.87     33858\n",
      "\n"
     ]
    }
   ],
   "source": [
    "y_pred_proba = model.predict([X_test_emb, X_test_ts])\n",
    "y_pred = np.argmax(y_pred_proba, axis=1)\n",
    "report = classification_report(y_test, y_pred, target_names=[f'Class {i}' for i in range(121)])\n",
    "print(\"Classification Report for Validation Data\\n\")\n",
    "print(report)"
   ]
  },
  {
   "cell_type": "code",
   "execution_count": 60,
   "metadata": {},
   "outputs": [
    {
     "name": "stdout",
     "output_type": "stream",
     "text": [
      "Total AUC Score Validation Data: 0.9985\n"
     ]
    }
   ],
   "source": [
    "y_test_binarized = label_binarize(y_test, classes=np.arange(121))\n",
    "auc_score = roc_auc_score(y_test_binarized, y_pred_proba, average=\"macro\", multi_class=\"ovr\")\n",
    "print(f'Total AUC Score Validation Data: {auc_score:.4f}')"
   ]
  },
  {
   "cell_type": "code",
   "execution_count": 62,
   "metadata": {},
   "outputs": [],
   "source": [
    "model.save('LSTM2_content.keras')"
   ]
  },
  {
   "cell_type": "markdown",
   "metadata": {},
   "source": [
    "## Conclusion: \n",
    "The first model differs from the first by a few fewer points on the metrics but is a simpler model than the second.\n",
    "\n",
    "Although we did not obtain a very high accuracy, however, the results are optimal and this proves that even in the face of numerous data and numerous classes, the neural network fits well by handling both the input as a time series (when the post was written) and the post itself (embedding of BERTopic).\n",
    "\n",
    "By having more datasets and more LSTM models at one's disposal, it is possible to compare the trends over time of the various forums and have a global view of the evolution of criminal language, not only at the level of a single forum but throughout the entire dark web."
   ]
  },
  {
   "cell_type": "code",
   "execution_count": null,
   "metadata": {},
   "outputs": [],
   "source": []
  }
 ],
 "metadata": {
  "kernelspec": {
   "display_name": "gestione",
   "language": "python",
   "name": "python3"
  },
  "language_info": {
   "codemirror_mode": {
    "name": "ipython",
    "version": 3
   },
   "file_extension": ".py",
   "mimetype": "text/x-python",
   "name": "python",
   "nbconvert_exporter": "python",
   "pygments_lexer": "ipython3",
   "version": "3.12.2"
  }
 },
 "nbformat": 4,
 "nbformat_minor": 2
}
